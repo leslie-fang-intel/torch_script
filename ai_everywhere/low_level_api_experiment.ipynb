{
 "cells": [
  {
   "cell_type": "markdown",
   "id": "2447892c",
   "metadata": {},
   "source": [
    "**Preload IOMP before start the Notebook**"
   ]
  },
  {
   "cell_type": "code",
   "execution_count": 1,
   "id": "b7323a84",
   "metadata": {},
   "outputs": [],
   "source": [
    "import torch\n",
    "import torch.fx.experimental.optimization as optimization\n",
    "import intel_extension_for_pytorch as ipex"
   ]
  },
  {
   "cell_type": "code",
   "execution_count": 2,
   "id": "6c866dce",
   "metadata": {},
   "outputs": [],
   "source": [
    "# Prepare the simple convolution network\n",
    "class SimpleNet(torch.nn.Module):\n",
    "    def __init__(self):\n",
    "        super(SimpleNet, self).__init__()\n",
    "        self.conv = torch.nn.Conv2d(64, 128, (3, 3), stride=(2, 2), padding=(1, 1), bias=False)\n",
    "\n",
    "    def forward(self, x):\n",
    "        x1 = self.conv(x)\n",
    "        y = torch.flatten(x1, start_dim=1)\n",
    "        return y\n",
    "model = SimpleNet().eval()\n",
    "x = torch.rand(64, 64, 3, 3)"
   ]
  },
  {
   "cell_type": "code",
   "execution_count": 3,
   "id": "012b1545",
   "metadata": {},
   "outputs": [],
   "source": [
    "# Thread Affinity API Experiments\n",
    "cpu_pool = ipex.cpu.runtime.CPUPool([1, 2, 3, 4])\n",
    "with ipex.cpu.runtime.pin(cpu_pool):\n",
    "    for i in range(2000):\n",
    "        y_runtime = model(x)"
   ]
  },
  {
   "cell_type": "code",
   "execution_count": 4,
   "id": "66d0e161",
   "metadata": {},
   "outputs": [],
   "source": [
    "# Async Task API Experiments\n",
    "cpu_pool1 = ipex.cpu.runtime.CPUPool([1, 2, 3])\n",
    "cpu_pool2 = ipex.cpu.runtime.CPUPool([6, 7, 8])\n",
    "\n",
    "task1 = ipex.cpu.runtime.Task(model, cpu_pool1)\n",
    "task2 = ipex.cpu.runtime.Task(model, cpu_pool2)\n",
    "\n",
    "y1_future = task1(x)\n",
    "y2_future = task2(x)\n",
    "\n",
    "y1 = y1_future.get()\n",
    "y2 = y2_future.get()"
   ]
  },
  {
   "cell_type": "code",
   "execution_count": null,
   "id": "36a1fd60",
   "metadata": {},
   "outputs": [],
   "source": []
  }
 ],
 "metadata": {
  "kernelspec": {
   "display_name": "Python 3 (ipykernel)",
   "language": "python",
   "name": "python3"
  },
  "language_info": {
   "codemirror_mode": {
    "name": "ipython",
    "version": 3
   },
   "file_extension": ".py",
   "mimetype": "text/x-python",
   "name": "python",
   "nbconvert_exporter": "python",
   "pygments_lexer": "ipython3",
   "version": "3.7.11"
  }
 },
 "nbformat": 4,
 "nbformat_minor": 5
}
